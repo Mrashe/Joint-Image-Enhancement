{
 "cells": [
  {
   "cell_type": "code",
   "execution_count": 2,
   "metadata": {},
   "outputs": [
    {
     "name": "stdout",
     "output_type": "stream",
     "text": [
      "[0.9939985  0.9578933  0.902675   0.8614881  0.8468862  0.9262828\n",
      " 0.96773344 0.99490094 1.0005416  1.0000037  1.0001079  1.0005043\n",
      " 0.97956914 0.9294622  0.87329584 0.8029073  0.69889903 0.6188919\n",
      " 0.6862843  0.72405726 0.81002736 0.79393977 0.8427312  0.87736005\n",
      " 0.9090164  0.9225857  0.91484004 0.9028805  0.8809733  0.91941863\n",
      " 0.94916946 0.96382624 0.9728886  0.97722846 0.9229426  0.84030503\n",
      " 0.7564566  0.7551193  0.798043   0.7500544  0.8009756  0.8999647\n",
      " 0.99310565 1.0013298  1.000319   0.99961936 0.9574282  0.93203723\n",
      " 0.941886   0.9655227  0.9974987  0.9963906  0.9457127  0.8716828\n",
      " 0.7261971  0.6464389  0.7264742  0.86635005 0.95942163 0.96637845\n",
      " 0.9537318  0.9514181  0.9555843  0.9695038 ]\n",
      "[1.         1.0000538  1.0080667  0.87357396 0.9537714  1.0047367\n",
      " 1.0000037  1.         1.         1.         1.         1.\n",
      " 0.9999999  1.0005457  1.0031862  0.9149638  0.4916337  0.4704363\n",
      " 0.42910036 0.5709776  0.7250292  0.87521106 0.99665177 0.99023235\n",
      " 0.9811392  0.99739224 1.0069088  0.9785294  0.91996807 1.0053508\n",
      " 1.0004753  1.0001274  1.0002542  1.0007675  0.96666664 0.90815276\n",
      " 0.6753138  0.82122314 0.6980694  0.6311075  0.632905   0.97460747\n",
      " 1.004281   1.         1.         1.         1.004159   0.9669595\n",
      " 0.8378075  0.980123   1.0028056  0.99999994 1.0075873  0.9381244\n",
      " 0.67918986 0.46536648 0.46717143 0.9161158  0.9967056  0.9870504\n",
      " 0.94370246 0.93280596 0.9418047  0.96798176]\n"
     ]
    }
   ],
   "source": [
    "import h5py\n",
    "import numpy as np\n",
    "\n",
    "f = h5py.File('C:\\\\Users\\\\admin\\\\GFN\\\\GOPRO\\\\GOPRO_train256_4x_HDF5\\\\LR-GOPRO_x4_Part1.h5', 'r')\n",
    "dset1 = f['data']\n",
    "dset2 = f['label_db']\n",
    "data1 = np.array(dset1[:,:,:])\n",
    "data2 = np.array(dset2[:,:,:])\n",
    "print(data1[1][0][0])\n",
    "print(data2[1][0][0])\n"
   ]
  },
  {
   "cell_type": "code",
   "execution_count": 3,
   "metadata": {},
   "outputs": [],
   "source": [
    "import numpy as np\n",
    "import random\n",
    "import cv2\n",
    "from PIL import Image\n",
    "import cv2\n",
    "import numpy as np\n",
    "import h5py\n",
    "\n",
    "# data = np.array(dset[:,:,:])\n",
    "# file = 'test.jpg'\n",
    "# cv2.imwrite(file, data)\n",
    "\n",
    "\n",
    "def gasuss_noise(data1, data2, mean=0, var=0.001538):\n",
    "    ''' \n",
    "        添加高斯噪声\n",
    "        mean : 均值 \n",
    "        \n",
    "        \n",
    "        var : 方差\n",
    "    '''\n",
    "    noise = np.random.normal(mean, var ** 0.5, data1.shape)\n",
    "    out1 = data1 + noise\n",
    "    out2 = data2 + noise\n",
    "    low_clip = 0.\n",
    "    out1 = np.clip(out1, low_clip, 1.0)\n",
    "    out2 = np.clip(out2, low_clip, 1.0)\n",
    "  #cv.imshow(\"gasuss\", out)\n",
    "    return out1,out2\n"
   ]
  },
  {
   "cell_type": "code",
   "execution_count": 4,
   "metadata": {
    "scrolled": true
   },
   "outputs": [
    {
     "name": "stdout",
     "output_type": "stream",
     "text": [
      "[1.         0.96327892 0.88118067 0.88854334 0.8124691  0.87530861\n",
      " 1.         1.         0.98315946 0.99858961 1.         1.\n",
      " 0.96334091 0.95849123 0.84563013 0.80545743 0.68002103 0.64551706\n",
      " 0.69414022 0.7292558  0.77002637 0.712483   0.83102868 0.85602176\n",
      " 0.92010411 0.92542534 0.88181995 0.88684504 0.847886   0.92482914\n",
      " 0.97053657 1.         0.97170918 0.92152446 0.92247427 0.95217163\n",
      " 0.7980911  0.75466255 0.78202681 0.71713999 0.74545805 0.80903163\n",
      " 0.96279189 1.         0.95439985 0.88316112 1.         0.92911286\n",
      " 0.92261758 0.97284497 1.         1.         0.96581449 0.86394138\n",
      " 0.70006162 0.64547966 0.58914652 0.90793882 0.98115086 1.\n",
      " 0.94510755 0.8509012  0.97152746 0.98561271]\n"
     ]
    },
    {
     "data": {
      "text/plain": [
       "array([1.        , 1.        , 0.9865723 , 0.9006292 , 0.9193543 ,\n",
       "       0.9537625 , 1.        , 1.        , 0.9826179 , 0.99858594,\n",
       "       1.        , 1.        , 0.9837717 , 1.        , 0.9755205 ,\n",
       "       0.9175139 , 0.4727557 , 0.49706146, 0.4369563 , 0.57617617,\n",
       "       0.6850282 , 0.7937543 , 0.9849493 , 0.96889406, 0.9922269 ,\n",
       "       1.        , 0.9738887 , 0.96249396, 0.8868808 , 1.        ,\n",
       "       1.        , 1.        , 0.99907476, 0.9450635 , 0.9661983 ,\n",
       "       1.        , 0.7169483 , 0.8207664 , 0.6820532 , 0.5981931 ,\n",
       "       0.57738745, 0.8836744 , 0.9739673 , 1.        , 0.9540808 ,\n",
       "       0.88354176, 1.        , 0.9640351 , 0.818539  , 0.98744524,\n",
       "       1.        , 1.        , 1.        , 0.93038297, 0.65305436,\n",
       "       0.46440724, 0.32984373, 0.9577046 , 1.        , 1.        ,\n",
       "       0.93507826, 0.83228904, 0.9577479 , 0.9840906 ], dtype=float32)"
      ]
     },
     "execution_count": 4,
     "metadata": {},
     "output_type": "execute_result"
    }
   ],
   "source": [
    "#f = h5py.File('C:\\\\Users\\\\admin\\\\GFN\\\\GOPRO\\\\GOPRO_train256_4x_HDF5\\\\LR-GOPRO_x4_Part1.h5', 'w')\n",
    "l = len(data2)\n",
    "data0 = np.zeros(data1.shape)\n",
    "for i in range(l):\n",
    "    data0[i],data2[i] = gasuss_noise(data1[i],data2[i]) #data0: LR-blur-noise data1:LR-blur data2:LR-noise \n",
    "print(data0[1][0][0])\n",
    "print(data2[1][0][0])\n"
   ]
  },
  {
   "cell_type": "code",
   "execution_count": 5,
   "metadata": {},
   "outputs": [],
   "source": [
    "f.close()\n",
    "f = h5py.File('C:\\\\Users\\\\admin\\\\GFN\\\\GOPRO\\\\GOPRO_train256_4x_HDF5\\\\LR-GOPRO_x4_Part4.h5', 'w')\n",
    "f['data'] = data0\n",
    "f['label_db'] = data2\n",
    "f['label_dn'] = data1\n",
    "f.close()"
   ]
  },
  {
   "cell_type": "code",
   "execution_count": 6,
   "metadata": {},
   "outputs": [],
   "source": [
    "import h5py\n",
    "import numpy as np\n",
    "f1 = h5py.File('C:\\\\Users\\\\admin\\\\GFN\\\\GOPRO\\\\GOPRO_train256_4x_HDF5\\\\LR-GOPRO_x4_Part1.h5', 'r')\n",
    "f = h5py.File('C:\\\\Users\\\\admin\\\\GFN\\\\GOPRO\\\\GOPRO_train256_4x_HDF5\\\\LR-GOPRO_x4_Part4.h5', 'a')\n",
    "f['label'] = np.array(f1['label'][:,:,:])\n",
    "f1.close()\n",
    "f.close()"
   ]
  },
  {
   "cell_type": "code",
   "execution_count": 6,
   "metadata": {},
   "outputs": [
    {
     "name": "stdout",
     "output_type": "stream",
     "text": [
      "内存使用： 23650304\n",
      "总内存： 8455360512\n",
      "内存占比： 22.5\n",
      "cpu个数： 4\n"
     ]
    }
   ],
   "source": [
    "import psutil\n",
    "import os\n",
    "\n",
    "info = psutil.virtual_memory()\n",
    "print(u'内存使用：',psutil.Process(os.getpid()).memory_info().rss)\n",
    "print(u'总内存：',info.total)\n",
    "print(u'内存占比：',info.percent)\n",
    "print(u'cpu个数：',psutil.cpu_count())\n"
   ]
  }
 ],
 "metadata": {
  "kernelspec": {
   "display_name": "Python 3",
   "language": "python",
   "name": "python3"
  },
  "language_info": {
   "codemirror_mode": {
    "name": "ipython",
    "version": 3
   },
   "file_extension": ".py",
   "mimetype": "text/x-python",
   "name": "python",
   "nbconvert_exporter": "python",
   "pygments_lexer": "ipython3",
   "version": "3.6.4"
  }
 },
 "nbformat": 4,
 "nbformat_minor": 2
}
